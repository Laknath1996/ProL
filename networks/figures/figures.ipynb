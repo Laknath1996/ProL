{
 "cells": [
  {
   "cell_type": "code",
   "execution_count": 7,
   "metadata": {},
   "outputs": [],
   "source": [
    "import matplotlib.pyplot as plt\n",
    "import seaborn as sns\n",
    "sns.set(context='poster',\n",
    "            style='ticks',\n",
    "            font_scale=0.9,\n",
    "            rc={'axes.grid':True,\n",
    "                'grid.color':'.9',\n",
    "                'grid.linewidth':0.75})"
   ]
  },
  {
   "cell_type": "code",
   "execution_count": 9,
   "metadata": {},
   "outputs": [
    {
     "data": {
      "text/plain": [
       "<Figure size 500x500 with 0 Axes>"
      ]
     },
     "metadata": {},
     "output_type": "display_data"
    }
   ],
   "source": [
    "from matplotlib.lines import Line2D\n",
    "\n",
    "cols = ['#377eb8', '#e41a1c', '#4daf4a', '#984ea3',\n",
    "    '#ff7f00', '#ffff33', '#a65628']\n",
    "\n",
    "fig_legend = plt.figure(figsize=(5, 5))\n",
    "\n",
    "legend_elements = [\n",
    "    Line2D([0], [0], color='#ff7f00', lw=4, ls='dashed', label='Random Guessing'),\n",
    "    Line2D([0], [0], color='k', lw=4, ls='dashed', label='Bayes Risk'),\n",
    "    Line2D([0], [0], color='#377eb8', lw=4, label='Follow-the-Leader'),\n",
    "    Line2D([0], [0], color='#4daf4a', lw=4, label='Online GD'),\n",
    "    Line2D([0], [0], color='#984ea3', lw=4, label='Bayesian GD'),\n",
    "    Line2D([0], [0], color='#e41a1c', lw=4, label='Prospective Learner'),\n",
    "]\n",
    "\n",
    "fig_legend.legend(\n",
    "    handles=legend_elements, \n",
    "    loc='center', \n",
    "    ncol=1, \n",
    "    fontsize=15, \n",
    "    frameon=True,\n",
    "    markerscale=2.,\n",
    "    scatterpoints=1)\n",
    "plt.show()\n",
    "fig_legend.savefig('legend.pdf', dpi=\"figure\", bbox_inches='tight')"
   ]
  },
  {
   "cell_type": "code",
   "execution_count": null,
   "metadata": {},
   "outputs": [],
   "source": []
  }
 ],
 "metadata": {
  "kernelspec": {
   "display_name": "prol",
   "language": "python",
   "name": "python3"
  },
  "language_info": {
   "codemirror_mode": {
    "name": "ipython",
    "version": 3
   },
   "file_extension": ".py",
   "mimetype": "text/x-python",
   "name": "python",
   "nbconvert_exporter": "python",
   "pygments_lexer": "ipython3",
   "version": "3.9.18"
  }
 },
 "nbformat": 4,
 "nbformat_minor": 2
}
