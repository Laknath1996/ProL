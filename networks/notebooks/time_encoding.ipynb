{
 "cells": [
  {
   "cell_type": "code",
   "execution_count": 3,
   "id": "357d6248-8800-4a59-acc0-6185116e9c5d",
   "metadata": {},
   "outputs": [],
   "source": [
    "import sys\n",
    "import matplotlib.pyplot as plt\n",
    "import numpy as np\n",
    "import torch\n",
    "\n",
    "from utils.net import TimeEmbedding, DiscreteTime"
   ]
  },
  {
   "cell_type": "code",
   "execution_count": 2,
   "id": "4bd59121-6383-4559-8033-a9a07244d508",
   "metadata": {},
   "outputs": [],
   "source": [
    "sys.path.append(\"..\")"
   ]
  },
  {
   "cell_type": "code",
   "execution_count": 5,
   "id": "0eb73482-47bf-44e6-8cff-f3352ca1896d",
   "metadata": {},
   "outputs": [],
   "source": [
    "#net = TimeEmbedding(50)\n",
    "net = DiscreteTime(50)\n",
    "\n",
    "times = torch.arange(0, 100).reshape(-1, 1)\n",
    "out = net(times)"
   ]
  },
  {
   "cell_type": "code",
   "execution_count": 6,
   "id": "aa4d29df-312f-48b8-8e12-79bbc23faf8a",
   "metadata": {},
   "outputs": [
    {
     "data": {
      "text/plain": [
       "<matplotlib.image.AxesImage at 0x1463a78b0>"
      ]
     },
     "execution_count": 6,
     "metadata": {},
     "output_type": "execute_result"
    },
    {
     "data": {
      "image/png": "[encoded data removed]",
      "text/plain": [
       "<Figure size 640x480 with 1 Axes>"
      ]
     },
     "metadata": {},
     "output_type": "display_data"
    }
   ],
   "source": [
    "plt.imshow(out.numpy())"
   ]
  },
  {
   "cell_type": "code",
   "execution_count": 7,
   "id": "823e7910-e16e-42ac-9dce-ae1948d1609d",
   "metadata": {},
   "outputs": [
    {
     "data": {
      "text/plain": [
       "1.2246467991473532e-16"
      ]
     },
     "execution_count": 7,
     "metadata": {},
     "output_type": "execute_result"
    }
   ],
   "source": [
    "out.numpy()[:, 2]\n",
    "\n",
    "np.sin((2 * np.pi) / 4 * 2)"
   ]
  },
  {
   "cell_type": "code",
   "execution_count": 43,
   "id": "8f90e256-a518-4602-828e-0b59b258c20f",
   "metadata": {},
   "outputs": [
    {
     "data": {
      "text/plain": [
       "tensor([[ 0.0000e+00,  0.0000e+00,  0.0000e+00,  ...,  1.0000e+00,\n",
       "          1.0000e+00,  1.0000e+00],\n",
       "        [-8.7423e-08,  1.0000e+00,  8.6603e-01,  ...,  9.9069e-01,\n",
       "          9.9144e-01,  9.9211e-01],\n",
       "        [ 1.7485e-07, -8.7423e-08,  8.6603e-01,  ...,  9.6292e-01,\n",
       "          9.6593e-01,  9.6858e-01],\n",
       "        ...,\n",
       "        [-9.6721e-06,  1.0000e+00,  8.6603e-01,  ...,  7.7571e-01,\n",
       "          9.9144e-01,  9.2978e-01],\n",
       "        [ 1.8581e-05, -9.2905e-06,  8.6602e-01,  ...,  6.8255e-01,\n",
       "          9.6593e-01,  9.6858e-01],\n",
       "        [ 3.0277e-06, -1.0000e+00, -4.0770e-06,  ...,  5.7668e-01,\n",
       "          9.2388e-01,  9.9211e-01]])"
      ]
     },
     "execution_count": 43,
     "metadata": {},
     "output_type": "execute_result"
    }
   ],
   "source": [
    "time_"
   ]
  },
  {
   "cell_type": "code",
   "execution_count": null,
   "id": "fc33ba26-9cfe-4b9e-8f6c-d91e354a83ba",
   "metadata": {},
   "outputs": [],
   "source": []
  }
 ],
 "metadata": {
  "kernelspec": {
   "display_name": "Python 3 (ipykernel)",
   "language": "python",
   "name": "python3"
  },
  "language_info": {
   "codemirror_mode": {
    "name": "ipython",
    "version": 3
   },
   "file_extension": ".py",
   "mimetype": "text/x-python",
   "name": "python",
   "nbconvert_exporter": "python",
   "pygments_lexer": "ipython3",
   "version": "3.10.12"
  }
 },
 "nbformat": 4,
 "nbformat_minor": 5
}
