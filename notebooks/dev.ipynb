{
 "cells": [
  {
   "cell_type": "code",
   "execution_count": 1,
   "metadata": {},
   "outputs": [
    {
     "name": "stderr",
     "output_type": "stream",
     "text": [
      "/cis/home/adesilva/miniconda3/envs/prol/lib/python3.9/site-packages/tqdm/auto.py:21: TqdmWarning: IProgress not found. Please update jupyter and ipywidgets. See https://ipywidgets.readthedocs.io/en/stable/user_install.html\n",
      "  from .autonotebook import tqdm as notebook_tqdm\n"
     ]
    }
   ],
   "source": [
    "import importlib\n",
    "from torch.utils.data import DataLoader\n",
    "import numpy as np\n",
    "from tqdm.auto import tqdm\n",
    "import pickle\n",
    "\n",
    "import hydra\n",
    "import logging\n",
    "\n",
    "from prol.process import (\n",
    "    get_cycle,\n",
    "    get_torch_dataset,\n",
    "    get_task_indicies_and_map,\n",
    "    get_sequence_indices\n",
    ")\n",
    "\n",
    "class SetParams:\n",
    "    def __init__(self, dict) -> None:\n",
    "        for k, v in dict.items():\n",
    "            setattr(self, k, v)"
   ]
  },
  {
   "cell_type": "code",
   "execution_count": 2,
   "metadata": {},
   "outputs": [],
   "source": [
    "# input parameters\n",
    "params = {\n",
    "    \"method\": \"proformer\",\n",
    "    \"N\": 20,                    # time between two task switches                   \n",
    "    \"t\": 500,                  # training time\n",
    "    \"T\": 5000,                  # future time horizon\n",
    "    \"task\": [[0, 1], [2, 3]],   # task specification\n",
    "    \"contextlength\": 200,       \n",
    "    \"seed\": 1996,              \n",
    "    \"image_size\": 28,           \n",
    "    \"device\": \"cuda:0\",             \n",
    "    \"lr\": 1e-3,         \n",
    "    \"batchsize\": 64,\n",
    "    \"epochs\": 500,\n",
    "    \"verbose\": True,\n",
    "    \"reps\": 100,                 # number of test reps\n",
    "    \"outer_reps\": 3\n",
    "}\n",
    "args = SetParams(params)\n"
   ]
  },
  {
   "cell_type": "code",
   "execution_count": 3,
   "metadata": {},
   "outputs": [
    {
     "name": "stdout",
     "output_type": "stream",
     "text": [
      "Files already downloaded and verified\n"
     ]
    }
   ],
   "source": [
    "root = '/cis/home/adesilva/ashwin/research/ProL/data'\n",
    "torch_dataset = get_torch_dataset(root=root, name='cifar-10')"
   ]
  },
  {
   "cell_type": "code",
   "execution_count": 6,
   "metadata": {},
   "outputs": [
    {
     "data": {
      "text/plain": [
       "tensor([6, 9, 9,  ..., 9, 1, 1])"
      ]
     },
     "execution_count": 6,
     "metadata": {},
     "output_type": "execute_result"
    }
   ],
   "source": [
    "torch_dataset.targets.long()"
   ]
  },
  {
   "cell_type": "code",
   "execution_count": 42,
   "metadata": {},
   "outputs": [],
   "source": [
    "root = '/cis/home/adesilva/ashwin/research/ProL/data'\n",
    "torch_dataset = get_torch_dataset(root=root, name='mnist')"
   ]
  },
  {
   "cell_type": "code",
   "execution_count": 44,
   "metadata": {},
   "outputs": [
    {
     "data": {
      "text/plain": [
       "tensor([5, 0, 4,  ..., 5, 6, 8])"
      ]
     },
     "execution_count": 44,
     "metadata": {},
     "output_type": "execute_result"
    }
   ],
   "source": [
    "torch_dataset.targets"
   ]
  },
  {
   "cell_type": "code",
   "execution_count": null,
   "metadata": {},
   "outputs": [],
   "source": []
  }
 ],
 "metadata": {
  "kernelspec": {
   "display_name": "prol",
   "language": "python",
   "name": "python3"
  },
  "language_info": {
   "codemirror_mode": {
    "name": "ipython",
    "version": 3
   },
   "file_extension": ".py",
   "mimetype": "text/x-python",
   "name": "python",
   "nbconvert_exporter": "python",
   "pygments_lexer": "ipython3",
   "version": "3.9.18"
  }
 },
 "nbformat": 4,
 "nbformat_minor": 2
}
