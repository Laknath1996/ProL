{
 "cells": [
  {
   "cell_type": "code",
   "execution_count": 10,
   "metadata": {},
   "outputs": [],
   "source": [
    "import importlib\n",
    "from torch.utils.data import DataLoader\n",
    "import numpy as np\n",
    "from tqdm.auto import tqdm\n",
    "import pickle\n",
    "\n",
    "import hydra\n",
    "import logging\n",
    "\n",
    "import time\n",
    "\n",
    "from prol.process import (\n",
    "    get_cycle,\n",
    "    get_torch_dataset,\n",
    "    get_task_indicies_and_map,\n",
    "    get_sequence_indices\n",
    ")\n",
    "\n",
    "class SetParams:\n",
    "    def __init__(self, dict) -> None:\n",
    "        for k, v in dict.items():\n",
    "            setattr(self, k, v)"
   ]
  },
  {
   "cell_type": "code",
   "execution_count": 2,
   "metadata": {},
   "outputs": [],
   "source": [
    "# input parameters\n",
    "params = {\n",
    "    \"method\": \"proformer\",\n",
    "    \"N\": 20,                    # time between two task switches                   \n",
    "    \"t\": 500,                  # training time\n",
    "    \"T\": 5000,                  # future time horizon\n",
    "    \"task\": [[0, 1], [2, 3]],   # task specification\n",
    "    \"contextlength\": 200,       \n",
    "    \"seed\": 1996,              \n",
    "    \"image_size\": 28,           \n",
    "    \"device\": \"cuda:0\",             \n",
    "    \"lr\": 1e-3,         \n",
    "    \"batchsize\": 64,\n",
    "    \"epochs\": 500,\n",
    "    \"verbose\": True,\n",
    "    \"reps\": 100,                 # number of test reps\n",
    "    \"outer_reps\": 3\n",
    "}\n",
    "args = SetParams(params)\n"
   ]
  },
  {
   "cell_type": "code",
   "execution_count": 3,
   "metadata": {},
   "outputs": [],
   "source": [
    "root = '/cis/home/adesilva/ashwin/research/ProL/data'\n",
    "torch_dataset = get_torch_dataset(root=root, name='mnist')"
   ]
  },
  {
   "cell_type": "code",
   "execution_count": 24,
   "metadata": {},
   "outputs": [],
   "source": [
    "from prol.models.proformer import SequentialDataset as proSD\n",
    "from prol.models.smallconv import SequentialDataset as convSD"
   ]
  },
  {
   "cell_type": "code",
   "execution_count": 25,
   "metadata": {},
   "outputs": [],
   "source": [
    "# get indices for each task\n",
    "taskInd, maplab = get_task_indicies_and_map(\n",
    "    tasks=args.task,\n",
    "    y=torch_dataset.targets.numpy()\n",
    ")\n",
    "\n",
    "# get a training sequence\n",
    "seed = args.seed\n",
    "train_SeqInd, updated_taskInd = get_sequence_indices(\n",
    "    N=args.N, \n",
    "    total_time_steps=args.t, \n",
    "    tasklib=taskInd, \n",
    "    seed=seed,\n",
    "    remove_train_samples=True\n",
    ")\n",
    "\n",
    "# form the train dataset\n",
    "data_kwargs = {\n",
    "    \"dataset\": torch_dataset, \n",
    "    \"seqInd\": train_SeqInd, \n",
    "    \"maplab\": maplab\n",
    "}"
   ]
  },
  {
   "cell_type": "code",
   "execution_count": 26,
   "metadata": {},
   "outputs": [],
   "source": [
    "pro_dataset = proSD(args, **data_kwargs)\n",
    "conv_dataset = convSD(args, **data_kwargs)"
   ]
  },
  {
   "cell_type": "code",
   "execution_count": 57,
   "metadata": {},
   "outputs": [],
   "source": [
    "proDL = DataLoader(pro_dataset, batch_size=16)\n",
    "convDL = DataLoader(conv_dataset, batch_size=16)"
   ]
  },
  {
   "cell_type": "code",
   "execution_count": 58,
   "metadata": {},
   "outputs": [
    {
     "name": "stdout",
     "output_type": "stream",
     "text": [
      "Time taken : 0.0021600723266601562\n",
      "2\n"
     ]
    }
   ],
   "source": [
    "start = time.time()\n",
    "batch = next(iter(convDL))\n",
    "end = time.time()\n",
    "print(f'Time taken : {end - start}')\n",
    "print(len(batch))"
   ]
  },
  {
   "cell_type": "code",
   "execution_count": 59,
   "metadata": {},
   "outputs": [
    {
     "name": "stdout",
     "output_type": "stream",
     "text": [
      "Time taken : 0.01221776008605957\n",
      "4\n"
     ]
    }
   ],
   "source": [
    "start = time.time()\n",
    "batch = next(iter(proDL))\n",
    "end = time.time()\n",
    "print(f'Time taken : {end - start}')\n",
    "print(len(batch))"
   ]
  },
  {
   "cell_type": "code",
   "execution_count": null,
   "metadata": {},
   "outputs": [],
   "source": []
  }
 ],
 "metadata": {
  "kernelspec": {
   "display_name": "prol",
   "language": "python",
   "name": "python3"
  },
  "language_info": {
   "codemirror_mode": {
    "name": "ipython",
    "version": 3
   },
   "file_extension": ".py",
   "mimetype": "text/x-python",
   "name": "python",
   "nbconvert_exporter": "python",
   "pygments_lexer": "ipython3",
   "version": "3.9.18"
  }
 },
 "nbformat": 4,
 "nbformat_minor": 2
}
