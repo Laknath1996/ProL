{
 "cells": [
  {
   "cell_type": "code",
   "execution_count": 1,
   "metadata": {},
   "outputs": [
    {
     "name": "stderr",
     "output_type": "stream",
     "text": [
      "/cis/home/adesilva/miniconda3/envs/prol/lib/python3.9/site-packages/tqdm/auto.py:21: TqdmWarning: IProgress not found. Please update jupyter and ipywidgets. See https://ipywidgets.readthedocs.io/en/stable/user_install.html\n",
      "  from .autonotebook import tqdm as notebook_tqdm\n"
     ]
    }
   ],
   "source": [
    "'''\n",
    "Vision label swap exps\n",
    "'''\n",
    "\n",
    "import importlib\n",
    "import numpy as np\n",
    "from tqdm.auto import tqdm\n",
    "import pickle\n",
    "\n",
    "import hydra\n",
    "import logging\n",
    "\n",
    "from prol.process import (\n",
    "    get_cycle,\n",
    "    get_torch_dataset,\n",
    "    get_task_indicies_and_map,\n",
    "    get_sequence_indices\n",
    ")\n",
    "from prol.utils import get_dataloader\n",
    "\n",
    "import torch"
   ]
  },
  {
   "cell_type": "code",
   "execution_count": 2,
   "metadata": {},
   "outputs": [],
   "source": [
    "class SetParams:\n",
    "    def __init__(self, dict) -> None:\n",
    "        for k, v in dict.items():\n",
    "            setattr(self, k, v)\n",
    "\n",
    "def get_modules(name):\n",
    "    try: \n",
    "        module1 = importlib.import_module(f\"prol.models.{name}\")\n",
    "        module2 = importlib.import_module(f\"prol.datahandlers.{name}_handle\")\n",
    "    except ImportError:\n",
    "        print(f\"Module {name} not found\")\n",
    "    return module1, module2"
   ]
  },
  {
   "cell_type": "code",
   "execution_count": 3,
   "metadata": {},
   "outputs": [
    {
     "name": "stdout",
     "output_type": "stream",
     "text": [
      "Files already downloaded and verified\n"
     ]
    }
   ],
   "source": [
    "log = logging.getLogger(__name__)\n",
    "\n",
    "logging.basicConfig(filename='dev.log', level=logging.INFO)\n",
    "\n",
    "# input parameters\n",
    "params = {\n",
    "    # dataset\n",
    "    \"dataset\": \"cifar-10\",\n",
    "    \"task\": [[0, 1], [2, 3]],    # task specification\n",
    "\n",
    "    # experiment\n",
    "    \"method\": \"conv_proformer\",         # select from {proformer, cnn, mlp, timecnn}\n",
    "    \"N\": 20,                     # time between two task switches                   \n",
    "    \"t\": 500,                  # training time\n",
    "    \"T\": 5000,                   # future time horizon\n",
    "    \"seed\": 1996,   \n",
    "    \"device\": \"cuda:1\",          # device\n",
    "    \"reps\": 100,                 # number of test reps\n",
    "    \"outer_reps\": 1,         \n",
    "    \n",
    "    # proformer\n",
    "    \"proformer\" : {\n",
    "        \"contextlength\": 200, \n",
    "        \"encoding_type\": 'freq',      \n",
    "        \"multihop\": True\n",
    "    },\n",
    "\n",
    "    # proformer\n",
    "    \"conv_proformer\" : {\n",
    "        \"contextlength\": 200, \n",
    "        \"encoding_type\": 'freq',      \n",
    "        \"multihop\": True\n",
    "    },\n",
    "\n",
    "    # timecnn\n",
    "    \"timecnn\": {\n",
    "        \"encoding_type\": 'freq', \n",
    "    },\n",
    "            \n",
    "    # training params\n",
    "    \"lr\": 1e-3,         \n",
    "    \"batchsize\": 64,\n",
    "    \"epochs\": 500,\n",
    "    \"verbose\": True\n",
    "}\n",
    "args = SetParams(params)\n",
    "log.info(f'{params}')\n",
    "\n",
    "# get source dataset\n",
    "root = '/cis/home/adesilva/ashwin/research/ProL/data'\n",
    "torch_dataset = get_torch_dataset(root, name=args.dataset)\n",
    "\n",
    "# get indices for each task\n",
    "taskInd, maplab = get_task_indicies_and_map(\n",
    "    tasks=args.task,\n",
    "    y=torch_dataset.targets.numpy(),\n",
    "    type='covariate-shift'\n",
    ")\n",
    "\n",
    "log.info(\" \")\n",
    "    \n",
    "# get a training sequence\n",
    "seed = args.seed * 2357\n",
    "train_SeqInd, updated_taskInd = get_sequence_indices(\n",
    "    N=args.N, \n",
    "    total_time_steps=args.t, \n",
    "    tasklib=taskInd, \n",
    "    seed=seed,\n",
    "    remove_train_samples=True\n",
    ")\n",
    "\n",
    "\n",
    "# get the module for the specified method\n",
    "method, datahandler = get_modules(args.method)\n",
    "\n",
    "# form the train dataset\n",
    "data_kwargs = {\n",
    "    \"dataset\": torch_dataset, \n",
    "    \"seqInd\": train_SeqInd, \n",
    "    \"maplab\": maplab\n",
    "}\n",
    "train_dataset = datahandler.VisionSequentialDataset(args, **data_kwargs)\n",
    "\n",
    "# # model\n",
    "# model_kwargs = method.model_defaults(args.dataset)\n",
    "# if args.method == 'proformer':\n",
    "#     model_kwargs['encoding_type'] = args.proformer['encoding_type']\n",
    "# elif args.method == 'timecnn':\n",
    "#     model_kwargs['encoding_type'] = args.timecnn['encoding_type']\n",
    "# log.info(f'{model_kwargs}')\n",
    "# model = method.Model(\n",
    "#     num_classes=len(args.task[0]),\n",
    "#     **model_kwargs\n",
    "# )\n",
    "    \n",
    "# # train\n",
    "# trainer = method.Trainer(model, train_dataset, args)\n",
    "# trainer.fit(log)"
   ]
  },
  {
   "cell_type": "code",
   "execution_count": 4,
   "metadata": {},
   "outputs": [],
   "source": [
    "# import matplotlib.pyplot as plt\n",
    "# for data, lab in zip(torch_dataset.data[train_SeqInd[:30]], torch_dataset.targets[train_SeqInd[:30]]):\n",
    "#     plt.imshow(data.squeeze())\n",
    "#     plt.title(f'label = {lab}')\n",
    "#     plt.show()"
   ]
  },
  {
   "cell_type": "code",
   "execution_count": 24,
   "metadata": {},
   "outputs": [],
   "source": [
    "import torch\n",
    "import torchvision\n",
    "import torchvision.transforms as transforms"
   ]
  },
  {
   "cell_type": "code",
   "execution_count": 3,
   "metadata": {},
   "outputs": [
    {
     "name": "stdout",
     "output_type": "stream",
     "text": [
      "Files already downloaded and verified\n"
     ]
    }
   ],
   "source": [
    "root = '/cis/home/adesilva/ashwin/research/ProL/data'\n",
    "dataset = torchvision.datasets.CIFAR10(\n",
    "            root=root,\n",
    "            train=True,\n",
    "            download=True\n",
    "        )"
   ]
  }
 ],
 "metadata": {
  "kernelspec": {
   "display_name": "prol",
   "language": "python",
   "name": "python3"
  },
  "language_info": {
   "codemirror_mode": {
    "name": "ipython",
    "version": 3
   },
   "file_extension": ".py",
   "mimetype": "text/x-python",
   "name": "python",
   "nbconvert_exporter": "python",
   "pygments_lexer": "ipython3",
   "version": "3.9.18"
  }
 },
 "nbformat": 4,
 "nbformat_minor": 2
}
